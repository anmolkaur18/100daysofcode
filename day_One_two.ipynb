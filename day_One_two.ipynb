{
 "cells": [
  {
   "cell_type": "code",
   "execution_count": 2,
   "metadata": {},
   "outputs": [
    {
     "name": "stdout",
     "output_type": "stream",
     "text": [
      "enter a name: anmol\n",
      "enter an arithmetic expression12*12 + 3 \n",
      "147\n",
      "this is print function\n",
      "hello 147 \n",
      "2+2 = 4\n",
      "<class 'int'> <class 'float'> <class 'str'> <class 'type'>\n",
      "34.1 -35 90 89.62 94.0\n"
     ]
    }
   ],
   "source": [
    "#functions\n",
    "\n",
    "#built-in functions\n",
    "\n",
    "name = input('enter a name: ')   #input function\n",
    "\n",
    "\n",
    "\n",
    "eval('15')   #eval function is used to evaluate the value of a string \n",
    "eval('15 + 10')\n",
    "\n",
    "\n",
    "\n",
    "'''\n",
    "Composition :- the value returned by a function may be used as an argument for another function in a nested manner\n",
    "'''\n",
    "\n",
    "number = eval(input(\"enter an arithmetic expression\"))\n",
    "print(number)\n",
    "\n",
    "\n",
    "#print function \n",
    "print(\"this is print function\")\n",
    "print('hello', number , '\\n2+2 =', 2+2)\n",
    "\n",
    "\n",
    "\n",
    "#type function   values or objects in python are classified into types or classes.Type tells us the type of a value\n",
    "\n",
    "print( type(12) , type(12.00), type(\"hello\"), type(float) )\n",
    "\n",
    "\n",
    "\n",
    "#round function   \n",
    "''' \n",
    "when calling the funcction round, the first argument is used to specify the value to be rounded, and the second argument\n",
    "is used to specify the number of decimal digits desired after rounding.If the second argument is missing he system rounds\n",
    "the value of first argument to an integer\n",
    "'''\n",
    "\n",
    "print( round(34.12,1), round(-34.63) ,round (89.635) , round(89.625,2), round(93.8888,0) )\n",
    "\n",
    "\n"
   ]
  },
  {
   "cell_type": "code",
   "execution_count": 3,
   "metadata": {},
   "outputs": [
    {
     "name": "stdout",
     "output_type": "stream",
     "text": [
      "enter cost price: 12\n",
      "enter profit: 13\n",
      "1312 no type casting\n",
      "\n",
      "25 after type casting\n"
     ]
    }
   ],
   "source": [
    "'''\n",
    "TYPE CONVERSION\n",
    "\n",
    "'''\n",
    "\n",
    "cp = input('enter cost price: ')\n",
    "p= input('enter profit: ')\n",
    "\n",
    "sp= p+cp  #to get this answer as integer we will type cast below\n",
    "print(sp,\"no type casting\\n\")\n",
    "\n",
    "sp = int(cp) + int (p)\n",
    "print(sp, \"after type casting\")"
   ]
  },
  {
   "cell_type": "code",
   "execution_count": 4,
   "metadata": {},
   "outputs": [
    {
     "name": "stdout",
     "output_type": "stream",
     "text": [
      "27\n",
      "5\n"
     ]
    }
   ],
   "source": [
    "#min and max function\n",
    "\n",
    "print(max(5, 27, 11, 5, 19) )\n",
    "print(min(5, 27, 11, 5, 19))\n"
   ]
  },
  {
   "cell_type": "code",
   "execution_count": 5,
   "metadata": {},
   "outputs": [
    {
     "name": "stdout",
     "output_type": "stream",
     "text": [
      "64\n"
     ]
    }
   ],
   "source": [
    "#pow function\n",
    "\n",
    "'''\n",
    "the pow(a,b) computes a^b\n",
    "'''\n",
    "print(pow(2,6))"
   ]
  },
  {
   "cell_type": "code",
   "execution_count": 7,
   "metadata": {},
   "outputs": [
    {
     "name": "stdout",
     "output_type": "stream",
     "text": [
      "player A plays first\n"
     ]
    }
   ],
   "source": [
    "#random number generator\n",
    "'''\n",
    "Python provides a function random() that generates in the range [0,1).Python module random contains this function and needs \n",
    "to be imported for using it\n",
    "\n",
    "generating a random number in the range [0,0.5)\n",
    "\n",
    "'''\n",
    "import random \n",
    "if random.random() < 0.5:\n",
    "    \n",
    "    print(\"player A plays first\")\n",
    "    \n",
    "else: print(\"player B plays first\")\n",
    "    "
   ]
  },
  {
   "cell_type": "code",
   "execution_count": 8,
   "metadata": {},
   "outputs": [
    {
     "data": {
      "text/plain": [
       "['ArithmeticError',\n",
       " 'AssertionError',\n",
       " 'AttributeError',\n",
       " 'BaseException',\n",
       " 'BlockingIOError',\n",
       " 'BrokenPipeError',\n",
       " 'BufferError',\n",
       " 'BytesWarning',\n",
       " 'ChildProcessError',\n",
       " 'ConnectionAbortedError',\n",
       " 'ConnectionError',\n",
       " 'ConnectionRefusedError',\n",
       " 'ConnectionResetError',\n",
       " 'DeprecationWarning',\n",
       " 'EOFError',\n",
       " 'Ellipsis',\n",
       " 'EnvironmentError',\n",
       " 'Exception',\n",
       " 'False',\n",
       " 'FileExistsError',\n",
       " 'FileNotFoundError',\n",
       " 'FloatingPointError',\n",
       " 'FutureWarning',\n",
       " 'GeneratorExit',\n",
       " 'IOError',\n",
       " 'ImportError',\n",
       " 'ImportWarning',\n",
       " 'IndentationError',\n",
       " 'IndexError',\n",
       " 'InterruptedError',\n",
       " 'IsADirectoryError',\n",
       " 'KeyError',\n",
       " 'KeyboardInterrupt',\n",
       " 'LookupError',\n",
       " 'MemoryError',\n",
       " 'ModuleNotFoundError',\n",
       " 'NameError',\n",
       " 'None',\n",
       " 'NotADirectoryError',\n",
       " 'NotImplemented',\n",
       " 'NotImplementedError',\n",
       " 'OSError',\n",
       " 'OverflowError',\n",
       " 'PendingDeprecationWarning',\n",
       " 'PermissionError',\n",
       " 'ProcessLookupError',\n",
       " 'RecursionError',\n",
       " 'ReferenceError',\n",
       " 'ResourceWarning',\n",
       " 'RuntimeError',\n",
       " 'RuntimeWarning',\n",
       " 'StopAsyncIteration',\n",
       " 'StopIteration',\n",
       " 'SyntaxError',\n",
       " 'SyntaxWarning',\n",
       " 'SystemError',\n",
       " 'SystemExit',\n",
       " 'TabError',\n",
       " 'TimeoutError',\n",
       " 'True',\n",
       " 'TypeError',\n",
       " 'UnboundLocalError',\n",
       " 'UnicodeDecodeError',\n",
       " 'UnicodeEncodeError',\n",
       " 'UnicodeError',\n",
       " 'UnicodeTranslateError',\n",
       " 'UnicodeWarning',\n",
       " 'UserWarning',\n",
       " 'ValueError',\n",
       " 'Warning',\n",
       " 'ZeroDivisionError',\n",
       " '__IPYTHON__',\n",
       " '__build_class__',\n",
       " '__debug__',\n",
       " '__doc__',\n",
       " '__import__',\n",
       " '__loader__',\n",
       " '__name__',\n",
       " '__package__',\n",
       " '__spec__',\n",
       " 'abs',\n",
       " 'all',\n",
       " 'any',\n",
       " 'ascii',\n",
       " 'bin',\n",
       " 'bool',\n",
       " 'breakpoint',\n",
       " 'bytearray',\n",
       " 'bytes',\n",
       " 'callable',\n",
       " 'chr',\n",
       " 'classmethod',\n",
       " 'compile',\n",
       " 'complex',\n",
       " 'copyright',\n",
       " 'credits',\n",
       " 'delattr',\n",
       " 'dict',\n",
       " 'dir',\n",
       " 'display',\n",
       " 'divmod',\n",
       " 'enumerate',\n",
       " 'eval',\n",
       " 'exec',\n",
       " 'filter',\n",
       " 'float',\n",
       " 'format',\n",
       " 'frozenset',\n",
       " 'get_ipython',\n",
       " 'getattr',\n",
       " 'globals',\n",
       " 'hasattr',\n",
       " 'hash',\n",
       " 'help',\n",
       " 'hex',\n",
       " 'id',\n",
       " 'input',\n",
       " 'int',\n",
       " 'isinstance',\n",
       " 'issubclass',\n",
       " 'iter',\n",
       " 'len',\n",
       " 'license',\n",
       " 'list',\n",
       " 'locals',\n",
       " 'map',\n",
       " 'max',\n",
       " 'memoryview',\n",
       " 'min',\n",
       " 'next',\n",
       " 'object',\n",
       " 'oct',\n",
       " 'open',\n",
       " 'ord',\n",
       " 'pow',\n",
       " 'print',\n",
       " 'property',\n",
       " 'range',\n",
       " 'repr',\n",
       " 'reversed',\n",
       " 'round',\n",
       " 'set',\n",
       " 'setattr',\n",
       " 'slice',\n",
       " 'sorted',\n",
       " 'staticmethod',\n",
       " 'str',\n",
       " 'sum',\n",
       " 'super',\n",
       " 'tuple',\n",
       " 'type',\n",
       " 'vars',\n",
       " 'zip']"
      ]
     },
     "execution_count": 8,
     "metadata": {},
     "output_type": "execute_result"
    }
   ],
   "source": [
    "dir(__builtins__) # shows list of all built-in functions"
   ]
  },
  {
   "cell_type": "code",
   "execution_count": 2,
   "metadata": {},
   "outputs": [
    {
     "name": "stdout",
     "output_type": "stream",
     "text": [
      "Help on built-in function print in module builtins:\n",
      "\n",
      "print(...)\n",
      "    print(value, ..., sep=' ', end='\\n', file=sys.stdout, flush=False)\n",
      "    \n",
      "    Prints the values to a stream, or to sys.stdout by default.\n",
      "    Optional keyword arguments:\n",
      "    file:  a file-like object (stream); defaults to the current sys.stdout.\n",
      "    sep:   string inserted between values, default a space.\n",
      "    end:   string appended after the last value, default a newline.\n",
      "    flush: whether to forcibly flush the stream.\n",
      "\n"
     ]
    }
   ],
   "source": [
    "#help function\n",
    "\n",
    "#help() (1) can be used to provide a description of built-in functions\n",
    "#       (2) it can also provide description of user defined function , all one needs to do is to add a multi-line comment\n",
    "\n",
    "help(print)"
   ]
  },
  {
   "cell_type": "code",
   "execution_count": 3,
   "metadata": {},
   "outputs": [
    {
     "name": "stdout",
     "output_type": "stream",
     "text": [
      "Help on function functionHello in module __main__:\n",
      "\n",
      "functionHello()\n",
      "    this function prints hello\n",
      "\n"
     ]
    }
   ],
   "source": [
    "def functionHello():\n",
    "    '''\n",
    "    this function prints hello \n",
    "    '''\n",
    "    print('hello')\n",
    "    \n",
    "help(functionHello)"
   ]
  },
  {
   "cell_type": "code",
   "execution_count": 4,
   "metadata": {},
   "outputs": [
    {
     "name": "stdout",
     "output_type": "stream",
     "text": [
      "16\n",
      "0\n"
     ]
    }
   ],
   "source": [
    "#default argument\n",
    "\n",
    "def multiplyN(x,y=0):\n",
    "    return x*y\n",
    "\n",
    "print(multiplyN(2,8))\n",
    "\n",
    "print(multiplyN(3))"
   ]
  },
  {
   "cell_type": "code",
   "execution_count": 5,
   "metadata": {},
   "outputs": [
    {
     "name": "stdout",
     "output_type": "stream",
     "text": [
      "enter marks obtained: 49\n"
     ]
    }
   ],
   "source": [
    "#ASSERT STATEMENT\n",
    "\n",
    "'''\n",
    "assert statement is used for error checking.    syntax->     assert condition\n",
    "'''\n",
    "\n",
    "marks = float(input('enter marks obtained: '))\n",
    "assert marks < 101\n"
   ]
  },
  {
   "cell_type": "code",
   "execution_count": 6,
   "metadata": {},
   "outputs": [
    {
     "name": "stdout",
     "output_type": "stream",
     "text": [
      "enter marks obtained: 200\n"
     ]
    },
    {
     "ename": "AssertionError",
     "evalue": "",
     "output_type": "error",
     "traceback": [
      "\u001b[0;31m---------------------------------------------------------------------------\u001b[0m",
      "\u001b[0;31mAssertionError\u001b[0m                            Traceback (most recent call last)",
      "\u001b[0;32m<ipython-input-6-5e477b85609c>\u001b[0m in \u001b[0;36m<module>\u001b[0;34m\u001b[0m\n\u001b[1;32m      1\u001b[0m \u001b[0mmarks\u001b[0m \u001b[0;34m=\u001b[0m \u001b[0mfloat\u001b[0m\u001b[0;34m(\u001b[0m\u001b[0minput\u001b[0m\u001b[0;34m(\u001b[0m\u001b[0;34m'enter marks obtained: '\u001b[0m\u001b[0;34m)\u001b[0m\u001b[0;34m)\u001b[0m\u001b[0;34m\u001b[0m\u001b[0;34m\u001b[0m\u001b[0m\n\u001b[0;32m----> 2\u001b[0;31m \u001b[0;32massert\u001b[0m \u001b[0mmarks\u001b[0m \u001b[0;34m<\u001b[0m \u001b[0;36m101\u001b[0m\u001b[0;34m\u001b[0m\u001b[0;34m\u001b[0m\u001b[0m\n\u001b[0m",
      "\u001b[0;31mAssertionError\u001b[0m: "
     ]
    }
   ],
   "source": [
    "\n",
    "marks = float(input('enter marks obtained: '))\n",
    "assert marks < 101\n"
   ]
  },
  {
   "cell_type": "code",
   "execution_count": 7,
   "metadata": {},
   "outputs": [
    {
     "name": "stdout",
     "output_type": "stream",
     "text": [
      "Enter your marks: 98\n",
      "Marks:  98.0 \n",
      "Grade: A\n"
     ]
    }
   ],
   "source": [
    "# if else condition\n",
    "\n",
    "def assignGrade(marks):\n",
    "    \n",
    "    assert marks >=0 and marks <=100\n",
    "    if marks >= 90:\n",
    "        grade = 'A'\n",
    "    elif marks >= 70:\n",
    "        grade = 'B'\n",
    "    elif marks >= 50:\n",
    "        grade = 'C'\n",
    "    else:\n",
    "        grade = 'D'\n",
    "        \n",
    "    return grade\n",
    "\n",
    "\n",
    "def main():\n",
    "    marks = float(input('Enter your marks: '))\n",
    "    print('Marks: ', marks,'\\nGrade:', assignGrade(marks))\n",
    "    \n",
    "\n",
    "if __name__ == '__main__':\n",
    "    main()\n",
    "    "
   ]
  },
  {
   "cell_type": "code",
   "execution_count": null,
   "metadata": {},
   "outputs": [],
   "source": []
  }
 ],
 "metadata": {
  "kernelspec": {
   "display_name": "Python 3",
   "language": "python",
   "name": "python3"
  },
  "language_info": {
   "codemirror_mode": {
    "name": "ipython",
    "version": 3
   },
   "file_extension": ".py",
   "mimetype": "text/x-python",
   "name": "python",
   "nbconvert_exporter": "python",
   "pygments_lexer": "ipython3",
   "version": "3.7.4"
  }
 },
 "nbformat": 4,
 "nbformat_minor": 2
}
